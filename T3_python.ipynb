{
 "cells": [
  {
   "cell_type": "markdown",
   "id": "56725a8b",
   "metadata": {},
   "source": [
    "Topsis method"
   ]
  },
  {
   "cell_type": "code",
   "execution_count": 19,
   "id": "89bd19cc",
   "metadata": {},
   "outputs": [],
   "source": [
    "import numpy as np"
   ]
  },
  {
   "cell_type": "code",
   "execution_count": 20,
   "id": "6ba7dfe6",
   "metadata": {},
   "outputs": [],
   "source": [
    "A = np.array([[595,0.35,3,3,0.045],[1119,0,3,3,0.059],[311,0.27,7,3,0.021],[311,0.16,7,3,0.032],[520,0.04,3,5,0.024],[905,0.2,3,5,0.032],[2226,0.61,5,5,0.025],[311,0.06,7,5,0.021],[2576,1,5,7,0.024],[514,0,5,7,0]])"
   ]
  },
  {
   "cell_type": "code",
   "execution_count": 21,
   "id": "754f49a0",
   "metadata": {},
   "outputs": [
    {
     "name": "stdout",
     "output_type": "stream",
     "text": [
      "[[5.950e+02 3.500e-01 3.000e+00 3.000e+00 4.500e-02]\n",
      " [1.119e+03 0.000e+00 3.000e+00 3.000e+00 5.900e-02]\n",
      " [3.110e+02 2.700e-01 7.000e+00 3.000e+00 2.100e-02]\n",
      " [3.110e+02 1.600e-01 7.000e+00 3.000e+00 3.200e-02]\n",
      " [5.200e+02 4.000e-02 3.000e+00 5.000e+00 2.400e-02]\n",
      " [9.050e+02 2.000e-01 3.000e+00 5.000e+00 3.200e-02]\n",
      " [2.226e+03 6.100e-01 5.000e+00 5.000e+00 2.500e-02]\n",
      " [3.110e+02 6.000e-02 7.000e+00 5.000e+00 2.100e-02]\n",
      " [2.576e+03 1.000e+00 5.000e+00 7.000e+00 2.400e-02]\n",
      " [5.140e+02 0.000e+00 5.000e+00 7.000e+00 0.000e+00]]\n"
     ]
    }
   ],
   "source": [
    "print(A)"
   ]
  },
  {
   "cell_type": "code",
   "execution_count": 22,
   "id": "d005e462",
   "metadata": {},
   "outputs": [],
   "source": [
    "A1 = A*A"
   ]
  },
  {
   "cell_type": "code",
   "execution_count": 23,
   "id": "a24e3d4d",
   "metadata": {},
   "outputs": [
    {
     "name": "stdout",
     "output_type": "stream",
     "text": [
      "[[3.540250e+05 1.225000e-01 9.000000e+00 9.000000e+00 2.025000e-03]\n",
      " [1.252161e+06 0.000000e+00 9.000000e+00 9.000000e+00 3.481000e-03]\n",
      " [9.672100e+04 7.290000e-02 4.900000e+01 9.000000e+00 4.410000e-04]\n",
      " [9.672100e+04 2.560000e-02 4.900000e+01 9.000000e+00 1.024000e-03]\n",
      " [2.704000e+05 1.600000e-03 9.000000e+00 2.500000e+01 5.760000e-04]\n",
      " [8.190250e+05 4.000000e-02 9.000000e+00 2.500000e+01 1.024000e-03]\n",
      " [4.955076e+06 3.721000e-01 2.500000e+01 2.500000e+01 6.250000e-04]\n",
      " [9.672100e+04 3.600000e-03 4.900000e+01 2.500000e+01 4.410000e-04]\n",
      " [6.635776e+06 1.000000e+00 2.500000e+01 4.900000e+01 5.760000e-04]\n",
      " [2.641960e+05 0.000000e+00 2.500000e+01 4.900000e+01 0.000000e+00]]\n"
     ]
    }
   ],
   "source": [
    "print(A1)"
   ]
  },
  {
   "cell_type": "code",
   "execution_count": 24,
   "id": "ddfd0fd4",
   "metadata": {},
   "outputs": [],
   "source": [
    "B = np.sqrt(np.sum(A1 , axis=0))"
   ]
  },
  {
   "cell_type": "code",
   "execution_count": 25,
   "id": "53865dd4",
   "metadata": {},
   "outputs": [
    {
     "name": "stdout",
     "output_type": "stream",
     "text": [
      "[3.85237875e+03 1.27996094e+00 1.60623784e+01 1.52970585e+01\n",
      " 1.01059388e-01]\n"
     ]
    }
   ],
   "source": [
    "print(B)"
   ]
  },
  {
   "cell_type": "code",
   "execution_count": 26,
   "id": "08e08109",
   "metadata": {},
   "outputs": [],
   "source": [
    "b1 = B[0]\n",
    "b2 = B[1]\n",
    "b3 = B[2]\n",
    "b4 = B[3]\n",
    "b5 = B[4]"
   ]
  },
  {
   "cell_type": "code",
   "execution_count": 27,
   "id": "aeb745a9",
   "metadata": {},
   "outputs": [
    {
     "name": "stdout",
     "output_type": "stream",
     "text": [
      "[0.84554997 0.70953012 0.91927066 0.91927066 0.86501846 0.76508021\n",
      " 0.42217519 0.91927066 0.33132224 0.86657594]\n",
      "[0.27344585 0.         0.21094394 0.12500381 0.03125095 0.15625477\n",
      " 0.47657704 0.04687643 0.78127384 0.        ]\n",
      "[0.18677184 0.18677184 0.43580096 0.43580096 0.18677184 0.18677184\n",
      " 0.3112864  0.43580096 0.3112864  0.3112864 ]\n",
      "[0.19611614 0.19611614 0.19611614 0.19611614 0.32686023 0.32686023\n",
      " 0.32686023 0.32686023 0.45760432 0.45760432]\n",
      "[0.44528273 0.58381513 0.20779861 0.31664549 0.23748412 0.31664549\n",
      " 0.24737929 0.20779861 0.23748412 0.        ]\n"
     ]
    }
   ],
   "source": [
    "M1 = (1-A[:,0]/b1)\n",
    "M2 = (A[:,1]/b2)\n",
    "M3 = (A[:,2]/b3)\n",
    "M4 = (A[:,3]/b4)\n",
    "M5 = (A[:,4]/b5)\n",
    "\n",
    "print(M1)\n",
    "print(M2)\n",
    "print(M3)\n",
    "print(M4)\n",
    "print(M5)"
   ]
  },
  {
   "cell_type": "code",
   "execution_count": 28,
   "id": "ec57478f",
   "metadata": {},
   "outputs": [
    {
     "name": "stdout",
     "output_type": "stream",
     "text": [
      "[0.21138749 0.17738253 0.22981766 0.22981766 0.21625462 0.19127005\n",
      " 0.1055438  0.22981766 0.08283056 0.21664399]\n",
      "[0.04101688 0.         0.03164159 0.01875057 0.00468764 0.02343822\n",
      " 0.07148656 0.00703146 0.11719108 0.        ]\n",
      "[0.04669296 0.04669296 0.10895024 0.10895024 0.04669296 0.04669296\n",
      " 0.0778216  0.10895024 0.0778216  0.0778216 ]\n",
      "[0.03922323 0.03922323 0.03922323 0.03922323 0.06537205 0.06537205\n",
      " 0.06537205 0.06537205 0.09152086 0.09152086]\n",
      "[0.06679241 0.08757227 0.03116979 0.04749682 0.03562262 0.04749682\n",
      " 0.03710689 0.03116979 0.03562262 0.        ]\n"
     ]
    }
   ],
   "source": [
    "W1 = 0.25*(1-A[:,0]/b1)\n",
    "W2 = 0.15*(A[:,1]/b2)\n",
    "W3 = 0.25*(A[:,2]/b3)\n",
    "W4 = 0.20*(A[:,3]/b4)\n",
    "W5 = 0.15*(A[:,4]/b5)\n",
    "\n",
    "print(W1)\n",
    "print(W2)\n",
    "print(W3)\n",
    "print(W4)\n",
    "print(W5)"
   ]
  },
  {
   "cell_type": "code",
   "execution_count": 29,
   "id": "9857da6b",
   "metadata": {},
   "outputs": [
    {
     "name": "stdout",
     "output_type": "stream",
     "text": [
      "0.22981766458253225\n",
      "0.1171910764424039\n",
      "0.10895024111382082\n",
      "0.09152086306448588\n",
      "0.0875722694653991\n"
     ]
    }
   ],
   "source": [
    "W1_MAX = W1.max()\n",
    "W2_MAX = W2.max()\n",
    "W3_MAX = W3.max()\n",
    "W4_MAX = W4.max()\n",
    "W5_MAX = W5.max()\n",
    "\n",
    "print(W1_MAX)\n",
    "print(W2_MAX)\n",
    "print(W3_MAX)\n",
    "print(W4_MAX)\n",
    "print(W5_MAX)"
   ]
  },
  {
   "cell_type": "code",
   "execution_count": 30,
   "id": "bac99d70",
   "metadata": {},
   "outputs": [
    {
     "name": "stdout",
     "output_type": "stream",
     "text": [
      "0.08283055937171402\n",
      "0.0\n",
      "0.046692960477351775\n",
      "0.03922322702763681\n",
      "0.0\n"
     ]
    }
   ],
   "source": [
    "W1_MIN = W1.min()\n",
    "W2_MIN = W2.min()\n",
    "W3_MIN = W3.min()\n",
    "W4_MIN = W4.min()\n",
    "W5_MIN = W5.min()\n",
    "\n",
    "print(W1_MIN)\n",
    "print(W2_MIN)\n",
    "print(W3_MIN)\n",
    "print(W4_MIN)\n",
    "print(W5_MIN)"
   ]
  },
  {
   "cell_type": "code",
   "execution_count": 31,
   "id": "2af0dec1",
   "metadata": {},
   "outputs": [
    {
     "name": "stdout",
     "output_type": "stream",
     "text": [
      "[0.11482593 0.15196777 0.11504346 0.11845513 0.14177262 0.12822359\n",
      " 0.14741914 0.12649166 0.15897474 0.15015055]\n"
     ]
    }
   ],
   "source": [
    "V1 = W1-W1_MAX\n",
    "V2 = W2-W2_MAX\n",
    "V3 = W3-W3_MAX\n",
    "V4 = W4-W4_MAX\n",
    "V5 = W5-W5_MAX\n",
    "\n",
    "x1 = V1**2\n",
    "x2 = V2**2\n",
    "x3 = V3**2\n",
    "x4 = V4**2\n",
    "x5 = V5**2\n",
    "\n",
    "H  = np.array ([x1 , x2 , x3 , x4 , x5])\n",
    "\n",
    "d1 = np.sqrt (np.sum ( H , axis=0 ))\n",
    "\n",
    "print(d1)"
   ]
  },
  {
   "cell_type": "code",
   "execution_count": 32,
   "id": "d6773771",
   "metadata": {},
   "outputs": [
    {
     "name": "stdout",
     "output_type": "stream",
     "text": [
      "[0.15056725 0.12887582 0.16569226 0.16759687 0.1406296  0.12348353\n",
      " 0.09303705 0.16488158 0.13677264 0.14700363]\n"
     ]
    }
   ],
   "source": [
    "V1_2 = W1-W1_MIN\n",
    "V2_2 = W2-W2_MIN\n",
    "V3_2 = W3-W3_MIN\n",
    "V4_2 = W4-W4_MIN\n",
    "V5_2 = W5-W5_MIN\n",
    "\n",
    "x1_2 = V1_2**2\n",
    "x2_2 = V2_2**2\n",
    "x3_2 = V3_2**2\n",
    "x4_2 = V4_2**2\n",
    "x5_2 = V5_2**2\n",
    "\n",
    "H2 = np.array ([x1_2 , x2_2 , x3_2 , x4_2 , x5_2])\n",
    "\n",
    "d2 = np.sqrt (np.sum ( H2 , axis=0 ))\n",
    "\n",
    "print(d2)"
   ]
  },
  {
   "cell_type": "code",
   "execution_count": 33,
   "id": "e438dd7c",
   "metadata": {},
   "outputs": [],
   "source": [
    "CL = d2/(d2+d1)"
   ]
  },
  {
   "cell_type": "code",
   "execution_count": 34,
   "id": "e780a2c5",
   "metadata": {},
   "outputs": [
    {
     "name": "stdout",
     "output_type": "stream",
     "text": [
      "[0.56733654 0.45888824 0.59020726 0.58589652 0.49797626 0.49058419\n",
      " 0.38691893 0.56587757 0.46246441 0.4947049 ]\n"
     ]
    }
   ],
   "source": [
    "print(CL)"
   ]
  }
 ],
 "metadata": {
  "kernelspec": {
   "display_name": "Python 3 (ipykernel)",
   "language": "python",
   "name": "python3"
  },
  "language_info": {
   "codemirror_mode": {
    "name": "ipython",
    "version": 3
   },
   "file_extension": ".py",
   "mimetype": "text/x-python",
   "name": "python",
   "nbconvert_exporter": "python",
   "pygments_lexer": "ipython3",
   "version": "3.9.7"
  }
 },
 "nbformat": 4,
 "nbformat_minor": 5
}
